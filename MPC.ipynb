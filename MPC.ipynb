{
  "nbformat": 4,
  "nbformat_minor": 0,
  "metadata": {
    "colab": {
      "provenance": [],
      "authorship_tag": "ABX9TyNReERHlNiuXW1OQ/XFtIY7",
      "include_colab_link": true
    },
    "kernelspec": {
      "name": "python3",
      "display_name": "Python 3"
    },
    "language_info": {
      "name": "python"
    }
  },
  "cells": [
    {
      "cell_type": "markdown",
      "metadata": {
        "id": "view-in-github",
        "colab_type": "text"
      },
      "source": [
        "<a href=\"https://colab.research.google.com/github/AdamLeebubu/web3_dashboard/blob/main/MPC.ipynb\" target=\"_parent\"><img src=\"https://colab.research.google.com/assets/colab-badge.svg\" alt=\"Open In Colab\"/></a>"
      ]
    },
    {
      "cell_type": "markdown",
      "source": [
        "The code above is modified from https://www.geeksforgeeks.org/implementing-shamirs-secret-sharing-scheme-in-python/#"
      ],
      "metadata": {
        "id": "o6QIGC8Cpjsl"
      }
    },
    {
      "cell_type": "code",
      "execution_count": null,
      "metadata": {
        "id": "WC5dowlZ9Got"
      },
      "outputs": [],
      "source": [
        "import random\n",
        "from math import ceil\n",
        "from decimal import Decimal\n",
        "import sys"
      ]
    },
    {
      "cell_type": "code",
      "source": [
        "def reconstruct_secret(shares):\n",
        "    \"\"\"\n",
        "    Combines individual shares (points on graph)\n",
        "    using Lagranges interpolation.\n",
        "\n",
        "    shares is a list of points (x, y) belonging to a\n",
        "    polynomial with a constant of our key.\n",
        "    \"\"\"\n",
        "    sums = 0\n",
        "    prod_arr = []\n",
        "\n",
        "    for j, share_j in enumerate(shares):\n",
        "        xj, yj = share_j\n",
        "        prod = Decimal(1)\n",
        "\n",
        "        for i, share_i in enumerate(shares):\n",
        "            xi, _ = share_i\n",
        "            if i != j:\n",
        "                prod *= Decimal(Decimal(xi)/(xi-xj))\n",
        "\n",
        "        prod *= yj\n",
        "        sums += Decimal(prod)\n",
        "\n",
        "    return int(round(Decimal(sums), 0))\n",
        "\n",
        "\n",
        "def polynom(x, coefficients):\n",
        "    \"\"\"\n",
        "    This generates a single point on the graph of given polynomial\n",
        "    in x. The polynomial is given by the list of coefficients.\n",
        "    \"\"\"\n",
        "    point = 0\n",
        "    # Loop through reversed list, so that indices from enumerate match the\n",
        "    # actual coefficient indices\n",
        "    for coefficient_index, coefficient_value in enumerate(coefficients[::-1]):\n",
        "        point += x ** coefficient_index * coefficient_value\n",
        "    return point\n",
        "\n",
        "\n",
        "def coeff(t, secret):\n",
        "    \"\"\"\n",
        "    Randomly generate a list of coefficients for a polynomial with\n",
        "    degree of t - 1, whose constant is secret.\n",
        "    \"\"\"\n",
        "    coeff = [random.randrange(-sys.maxsize - 1, sys.maxsize) for _ in range(t - 1)]\n",
        "    coeff.append(secret)\n",
        "    return coeff\n",
        "\n",
        "\n",
        "def generate_shares(n, m, secrets):\n",
        "    \"\"\"\n",
        "    Split given secret into `n` shares with minimum threshold\n",
        "    of m shares to recover this `secret`, using SSS algorithm.\n",
        "    \"\"\"\n",
        "    shares = []\n",
        "\n",
        "    for secret in secrets:\n",
        "      coefficients = coeff(m, secret)\n",
        "      share = []\n",
        "      x = 1\n",
        "      for i in range(1, n+1):\n",
        "          share.append((x, polynom(x, coefficients)))\n",
        "          x += 1\n",
        "      shares.append(share)\n",
        "\n",
        "    return shares\n",
        "\n",
        "def party_calculate(shares):\n",
        "  \"\"\"\n",
        "    each party do the calculation on the shares they have\n",
        "  \"\"\"\n",
        "  sub_sum = []\n",
        "  for i in range(0,len(shares[0])):\n",
        "    temp = 0\n",
        "    for j in range(0, 7):\n",
        "      # print(shares[j][i][1])\n",
        "      temp += shares[j][i][1]\n",
        "    sub_sum.append((i+1, temp))\n",
        "  return sub_sum\n",
        ""
      ],
      "metadata": {
        "id": "JpMeJGuKCpyH"
      },
      "execution_count": null,
      "outputs": []
    },
    {
      "cell_type": "code",
      "source": [
        "# (3,3) sharing scheme of data aggregation for weekly data\n",
        "t, n = 3, 3\n",
        "data = [1,2,3,4,5,6,7]\n",
        "print(f'Original Data: {data}')\n",
        "\n",
        "# Phase I: Generation of shares\n",
        "shares = generate_shares(n, t, data)\n",
        "print(f'Shares: {shares}') # the party i receive shares whose first value in tuple is i\n",
        "\n",
        "# Phase II: Secret Reconstruction\n",
        "# Picking t shares randomly for reconstruction\n",
        "sub_sum = party_calculate(shares)\n",
        "print(f'Sub_sum: {sub_sum}')\n",
        "print(f'Reconstructed result: {reconstruct_secret(sub_sum)}')\n",
        "print('Desired result: 28')"
      ],
      "metadata": {
        "colab": {
          "base_uri": "https://localhost:8080/"
        },
        "id": "q3gmGGFXgb6M",
        "outputId": "e5579dec-f2b1-43ba-e584-b46f66c8acdf"
      },
      "execution_count": null,
      "outputs": [
        {
          "output_type": "stream",
          "name": "stdout",
          "text": [
            "Original Data: [1, 2, 3, 4, 5, 6, 7]\n",
            "Shares: [[(1, 4138349628060796483), (2, 2236161516758314669), (3, -5706564333907445441)], [(1, -11152914408973768197), (2, -40175658313863442266), (3, -87068231714669022205)], [(1, -9051422315447562646), (2, -23189136038309938531), (3, -42413141168587127652)], [(1, -10611459398563223302), (2, -30403690723560658992), (3, -59376693974992307066)], [(1, -8489895495152540713), (2, -18952746832740926623), (3, -31388554012765157725)], [(1, -5515458012828864116), (2, -9747013105588909958), (3, -12694665278280137520)], [(1, -16985155340848670341), (2, -51688956678296315231), (3, -104111404012342934663)]]\n",
            "Sub_sum: [(1, -57667955343753832832), (2, -171921040175601876932), (3, -342759254495544132272)]\n",
            "Reconstructed result: 28\n",
            "Desired result: 28\n"
          ]
        }
      ]
    }
  ]
}